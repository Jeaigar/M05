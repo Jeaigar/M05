# Importing required modules
import unittest
from fractions import Fraction

# Function to be tested
def my_sum(arg):
    total = 0
    for val in arg:
        total += val
    return total

# Test case class
class TestMySum(unittest.TestCase):

    # Test case for list of integers
    def test_list_int(self):
        data = [1, 2, 3]
        result = my_sum(data)
        self.assertEqual(result, 6, "Should be 6")

    # Test case for list of fractions
    def test_list_fraction(self):
        data = [Fraction(1, 4), Fraction(1, 4), Fraction(2, 5)]
        result = my_sum(data)
        self.assertEqual(result, Fraction(9, 10), "Should be 9/10")

# Running the tests
if __name__ == '__main__':
    unittest.main(argv=['first-arg-is-ignored'], exit=False)
